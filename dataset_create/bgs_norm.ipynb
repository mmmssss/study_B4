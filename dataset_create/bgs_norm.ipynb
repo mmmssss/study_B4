{
 "cells": [
  {
   "cell_type": "code",
   "execution_count": null,
   "metadata": {},
   "outputs": [],
   "source": [
    "import os\n",
    "import soundfile as sf\n",
    "import numpy as np\n",
    "import librosa\n",
    "import librosa.display\n",
    "\n",
    "#Function for audio pre-processing\n",
    "def pre_processing(data, Fs, down_sam):\n",
    "    \n",
    "    #Transform stereo into monoral\n",
    "    if data.ndim == 2:\n",
    "        wavdata = 0.5*data[:, 0] + 0.5*data[:, 1]\n",
    "    else:\n",
    "        wavdata = data\n",
    "    \n",
    "    #Down sampling and normalization of the wave\n",
    "    if down_sam is not None:\n",
    "        wavdata = sg.resample_poly(wavdata, down_sam, Fs)\n",
    "        Fs = down_sam\n",
    "    \n",
    "    return wavdata, Fs"
   ]
  },
  {
   "cell_type": "markdown",
   "metadata": {},
   "source": [
    "# BackGroundSound Normalization"
   ]
  },
  {
   "cell_type": "code",
   "execution_count": null,
   "metadata": {},
   "outputs": [],
   "source": [
    "#Setup\n",
    "down_sam = None        #Downsampling rate (Hz) [Default]None\n",
    "\n",
    "path = \"norm_dataset/\"\n",
    "files = os.listdir(path + \"bgs_10s/\") \n",
    "save_path = \"./bgm/\""
   ]
  },
  {
   "cell_type": "code",
   "execution_count": null,
   "metadata": {},
   "outputs": [],
   "source": [
    "for i, file in enumerate(files):\n",
    "\n",
    "    audio, Fs = sf.read(path + \"bgm_10s/\" + file)\n",
    "    audio, Fs = pre_processing(audio, Fs, down_sam) \n",
    "    audio = audio / np.max(audio)\n",
    "    \n",
    "    sf.write(save_path + '{0:03d}'.format(i) + \".wav\", audio, Fs)\n",
    "    \n",
    "#ipd.display(ipd.Audio(data=data, rate=Fs))\n",
    "# librosa.display.waveplot(data, sr=Fs)"
   ]
  },
  {
   "cell_type": "markdown",
   "metadata": {},
   "source": [
    "# Clip 10s"
   ]
  },
  {
   "cell_type": "code",
   "execution_count": null,
   "metadata": {},
   "outputs": [],
   "source": [
    "#Setup\n",
    "down_sam = None        #Downsampling rate (Hz) [Default]None\n",
    "\n",
    "path = \"norm_dataset/\"\n",
    "files = os.listdir(path + \"bgs_10s/\") \n",
    "save_path = \"./bgm/\""
   ]
  },
  {
   "cell_type": "code",
   "execution_count": null,
   "metadata": {},
   "outputs": [],
   "source": [
    "for i, file in enumerate(files):\n",
    "    audio, Fs = sf.read(path + file)\n",
    "    audio, Fs = pre_processing(audio, Fs, down_sam) \n",
    "    audio = audio / np.max(audio)\n",
    "    \n",
    "    new_audio = audio[0:441000]\n",
    "    \n",
    "    sf.write(save_path + '{0:03d}'.format(i) + \".wav\", new_audio, Fs)\n",
    "    \n",
    "#ipd.display(ipd.Audio(data=data, rate=Fs))\n",
    "# librosa.display.waveplot(data, sr=Fs)"
   ]
  },
  {
   "cell_type": "code",
   "execution_count": null,
   "metadata": {},
   "outputs": [],
   "source": []
  }
 ],
 "metadata": {
  "kernelspec": {
   "display_name": "Python 3",
   "language": "python",
   "name": "python3"
  },
  "language_info": {
   "codemirror_mode": {
    "name": "ipython",
    "version": 3
   },
   "file_extension": ".py",
   "mimetype": "text/x-python",
   "name": "python",
   "nbconvert_exporter": "python",
   "pygments_lexer": "ipython3",
   "version": "3.7.10"
  }
 },
 "nbformat": 4,
 "nbformat_minor": 4
}
